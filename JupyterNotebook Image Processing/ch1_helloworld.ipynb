{
 "cells": [
  {
   "cell_type": "code",
   "execution_count": 2,
   "id": "471a01fc-ddd9-4b51-8fa1-8035ad5e714d",
   "metadata": {},
   "outputs": [],
   "source": []
  },
  {
   "cell_type": "code",
   "execution_count": 5,
   "id": "31ea55c7-b3e5-4799-9b74-750223949732",
   "metadata": {},
   "outputs": [
    {
     "name": "stdout",
     "output_type": "stream",
     "text": [
      "Hello , Theeramet\n"
     ]
    }
   ],
   "source": [
    "print(\"Hello , Theeramet\")"
   ]
  },
  {
   "cell_type": "markdown",
   "id": "1a74c9f4-fd18-4343-ab98-90d6778a1717",
   "metadata": {},
   "source": [
    "# ทดสอบ test jupyter Lab"
   ]
  },
  {
   "cell_type": "code",
   "execution_count": 6,
   "id": "13abb681-c330-49eb-b2de-3d695a154fb2",
   "metadata": {},
   "outputs": [],
   "source": [
    "a = 4"
   ]
  },
  {
   "cell_type": "code",
   "execution_count": 7,
   "id": "49c52fe6-fe69-4096-b808-1e48be851d2a",
   "metadata": {},
   "outputs": [],
   "source": [
    "b = 2"
   ]
  },
  {
   "cell_type": "markdown",
   "id": "2ea7e2b6-2979-43c9-b5cc-528916c5b564",
   "metadata": {},
   "source": [
    "## part 1"
   ]
  },
  {
   "cell_type": "code",
   "execution_count": 9,
   "id": "b66d68da-61ea-4c53-828c-6563dcd1a221",
   "metadata": {},
   "outputs": [
    {
     "data": {
      "text/plain": [
       "2"
      ]
     },
     "execution_count": 9,
     "metadata": {},
     "output_type": "execute_result"
    }
   ],
   "source": [
    "c = a // b\n",
    "c"
   ]
  },
  {
   "cell_type": "code",
   "execution_count": 11,
   "id": "030ce417-a24a-4a13-8396-a7809184bf32",
   "metadata": {},
   "outputs": [
    {
     "data": {
      "text/plain": [
       "8"
      ]
     },
     "execution_count": 11,
     "metadata": {},
     "output_type": "execute_result"
    }
   ],
   "source": [
    "c = a * b\n",
    "c"
   ]
  },
  {
   "cell_type": "markdown",
   "id": "2f51a5c3-3f3d-43aa-88ba-3746ce006b7a",
   "metadata": {},
   "source": [
    "## part2"
   ]
  },
  {
   "cell_type": "code",
   "execution_count": 12,
   "id": "000072db-4974-4d2d-afc6-2c596a86c59a",
   "metadata": {},
   "outputs": [
    {
     "name": "stdout",
     "output_type": "stream",
     "text": [
      "8\n"
     ]
    }
   ],
   "source": [
    "print(c)"
   ]
  },
  {
   "cell_type": "code",
   "execution_count": 13,
   "id": "616b2d57-e726-4394-b68d-201c08fcb127",
   "metadata": {},
   "outputs": [],
   "source": [
    "b = 10"
   ]
  },
  {
   "cell_type": "code",
   "execution_count": 14,
   "id": "015d4d3e-60c8-46fd-932d-82bd861e11b7",
   "metadata": {},
   "outputs": [
    {
     "data": {
      "text/plain": [
       "10"
      ]
     },
     "execution_count": 14,
     "metadata": {},
     "output_type": "execute_result"
    }
   ],
   "source": [
    "b"
   ]
  },
  {
   "cell_type": "code",
   "execution_count": null,
   "id": "7bd0ac37-af12-467f-a010-0f6024c81e73",
   "metadata": {},
   "outputs": [],
   "source": []
  }
 ],
 "metadata": {
  "kernelspec": {
   "display_name": "Python 3 (ipykernel)",
   "language": "python",
   "name": "python3"
  },
  "language_info": {
   "codemirror_mode": {
    "name": "ipython",
    "version": 3
   },
   "file_extension": ".py",
   "mimetype": "text/x-python",
   "name": "python",
   "nbconvert_exporter": "python",
   "pygments_lexer": "ipython3",
   "version": "3.10.9"
  }
 },
 "nbformat": 4,
 "nbformat_minor": 5
}
