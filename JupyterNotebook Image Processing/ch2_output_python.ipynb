{
 "cells": [
  {
   "cell_type": "code",
   "execution_count": 1,
   "id": "211617d6-dc55-4fdb-b04b-cb21254faa1d",
   "metadata": {},
   "outputs": [
    {
     "data": {
      "text/plain": [
       "32"
      ]
     },
     "execution_count": 1,
     "metadata": {},
     "output_type": "execute_result"
    }
   ],
   "source": [
    "2 ** 5"
   ]
  },
  {
   "cell_type": "markdown",
   "id": "e1f07641-0ff0-4ec0-b6d8-353087a9e00f",
   "metadata": {},
   "source": [
    "## comment"
   ]
  },
  {
   "cell_type": "code",
   "execution_count": 2,
   "id": "ac4677f3-282c-4112-bc86-0e27785c671f",
   "metadata": {},
   "outputs": [],
   "source": [
    "n = 20.5\n",
    "#n = 20.5"
   ]
  },
  {
   "cell_type": "markdown",
   "id": "d9fbcace-0c1a-46ea-a2ba-192370e02582",
   "metadata": {},
   "source": [
    "## Data types"
   ]
  },
  {
   "cell_type": "code",
   "execution_count": 4,
   "id": "d3e46c87-ec35-43ae-ab38-d6ce7158c41c",
   "metadata": {},
   "outputs": [
    {
     "data": {
      "text/plain": [
       "int"
      ]
     },
     "execution_count": 4,
     "metadata": {},
     "output_type": "execute_result"
    }
   ],
   "source": [
    "a = 3\n",
    "type(a)"
   ]
  },
  {
   "cell_type": "code",
   "execution_count": 5,
   "id": "b0193495-2871-4037-a884-282831d87be4",
   "metadata": {},
   "outputs": [
    {
     "data": {
      "text/plain": [
       "float"
      ]
     },
     "execution_count": 5,
     "metadata": {},
     "output_type": "execute_result"
    }
   ],
   "source": [
    "b = 5.0\n",
    "type(b)"
   ]
  },
  {
   "cell_type": "code",
   "execution_count": 7,
   "id": "f27df3db-339b-4fc3-875f-c5999428d6b4",
   "metadata": {},
   "outputs": [
    {
     "data": {
      "text/plain": [
       "str"
      ]
     },
     "execution_count": 7,
     "metadata": {},
     "output_type": "execute_result"
    }
   ],
   "source": [
    "c = '4'\n",
    "type(c)"
   ]
  },
  {
   "cell_type": "code",
   "execution_count": 13,
   "id": "18f6fa7c-287b-472a-baa7-cce38651d261",
   "metadata": {},
   "outputs": [
    {
     "data": {
      "text/plain": [
       "str"
      ]
     },
     "execution_count": 13,
     "metadata": {},
     "output_type": "execute_result"
    }
   ],
   "source": [
    "d = eval(c)\n",
    "type(d)"
   ]
  },
  {
   "cell_type": "code",
   "execution_count": 16,
   "id": "728a6cde-f951-463f-9834-f6f31f2f840f",
   "metadata": {},
   "outputs": [
    {
     "data": {
      "text/plain": [
       "'theeramet chuaipayung'"
      ]
     },
     "execution_count": 16,
     "metadata": {},
     "output_type": "execute_result"
    }
   ],
   "source": [
    "name = 'theeramet'\n",
    "sur  = ' chuaipayung'\n",
    "name + sur"
   ]
  },
  {
   "cell_type": "markdown",
   "id": "72a6c1b6-da95-4d47-97b9-b62a1f8bfdfd",
   "metadata": {},
   "source": [
    "## print"
   ]
  },
  {
   "cell_type": "code",
   "execution_count": 17,
   "id": "31080055-8f04-4052-a636-d1584844163c",
   "metadata": {},
   "outputs": [],
   "source": [
    "v = 2\n",
    "sc = 3.673245\n",
    "name = \"Blue\""
   ]
  },
  {
   "cell_type": "code",
   "execution_count": 18,
   "id": "31e87781-1391-4245-bd0f-370817bd887d",
   "metadata": {},
   "outputs": [
    {
     "name": "stdout",
     "output_type": "stream",
     "text": [
      "Hi, Blue a = 20 b = 3.67\n"
     ]
    }
   ],
   "source": [
    "print(\"Hi, %s a = %d b = %.2f\" % (name, n, sc))"
   ]
  },
  {
   "cell_type": "code",
   "execution_count": 19,
   "id": "787e654b-9c54-4108-b8de-701802c4a461",
   "metadata": {},
   "outputs": [
    {
     "name": "stdout",
     "output_type": "stream",
     "text": [
      "Hi Blue 3.7\n"
     ]
    }
   ],
   "source": [
    "print('Hi {} {:.1f}' .format(name , sc))"
   ]
  },
  {
   "cell_type": "code",
   "execution_count": 21,
   "id": "693b9477-744d-48a6-9546-16b2a838fa7e",
   "metadata": {},
   "outputs": [
    {
     "name": "stdout",
     "output_type": "stream",
     "text": [
      "data = 280,903.00\n"
     ]
    }
   ],
   "source": [
    "b = 280903\n",
    "print('data = {:,.2f}' .format(b))"
   ]
  },
  {
   "cell_type": "code",
   "execution_count": null,
   "id": "ce547712-f4f7-48c7-abf7-90067d65500c",
   "metadata": {},
   "outputs": [],
   "source": []
  }
 ],
 "metadata": {
  "kernelspec": {
   "display_name": "Python 3 (ipykernel)",
   "language": "python",
   "name": "python3"
  },
  "language_info": {
   "codemirror_mode": {
    "name": "ipython",
    "version": 3
   },
   "file_extension": ".py",
   "mimetype": "text/x-python",
   "name": "python",
   "nbconvert_exporter": "python",
   "pygments_lexer": "ipython3",
   "version": "3.10.9"
  }
 },
 "nbformat": 4,
 "nbformat_minor": 5
}
