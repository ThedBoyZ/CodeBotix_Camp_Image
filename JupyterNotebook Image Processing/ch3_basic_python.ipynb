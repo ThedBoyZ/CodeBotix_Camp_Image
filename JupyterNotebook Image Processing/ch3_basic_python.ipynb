{
 "cells": [
  {
   "cell_type": "markdown",
   "id": "f62db92c-cd4b-48b7-b487-071e7fad4c1d",
   "metadata": {},
   "source": [
    "# Python เบื้องต้น"
   ]
  },
  {
   "cell_type": "code",
   "execution_count": 3,
   "id": "f15a22c1-da4f-4c79-b271-649822e0494b",
   "metadata": {},
   "outputs": [
    {
     "name": "stdout",
     "output_type": "stream",
     "text": [
      "scimath\n"
     ]
    }
   ],
   "source": [
    "name = 'theeramet'\n",
    "name = 'scimath'\n",
    "print(name)"
   ]
  },
  {
   "cell_type": "code",
   "execution_count": null,
   "id": "aee78a00-1193-4ec5-9d34-670b38372bc0",
   "metadata": {},
   "outputs": [],
   "source": [
    "เครื่องหมายคำนวณ (Operators)\n",
    "+ - * / \n",
    "%   หารเอาเศษ\n",
    "//  หารปัดเศษ\n",
    "**  ยกกำลัง"
   ]
  },
  {
   "cell_type": "code",
   "execution_count": 5,
   "id": "194b7f81-7f2f-4924-82af-6821470162ed",
   "metadata": {},
   "outputs": [],
   "source": [
    "a = 10"
   ]
  },
  {
   "cell_type": "code",
   "execution_count": 8,
   "id": "7622a541-104a-4fd0-bb80-74a0c2534bba",
   "metadata": {},
   "outputs": [
    {
     "data": {
      "text/plain": [
       "5.0"
      ]
     },
     "execution_count": 8,
     "metadata": {},
     "output_type": "execute_result"
    }
   ],
   "source": [
    "b = a / 2\n",
    "b"
   ]
  },
  {
   "cell_type": "code",
   "execution_count": 10,
   "id": "af6a39c5-3f3e-44d0-bc30-e45a1cbed76d",
   "metadata": {},
   "outputs": [
    {
     "data": {
      "text/plain": [
       "2"
      ]
     },
     "execution_count": 10,
     "metadata": {},
     "output_type": "execute_result"
    }
   ],
   "source": [
    "5 // 2"
   ]
  },
  {
   "cell_type": "code",
   "execution_count": 11,
   "id": "756cf320-ebfb-4507-ba1b-59a182d151b4",
   "metadata": {},
   "outputs": [
    {
     "data": {
      "text/plain": [
       "1"
      ]
     },
     "execution_count": 11,
     "metadata": {},
     "output_type": "execute_result"
    }
   ],
   "source": [
    "5 % 2"
   ]
  },
  {
   "cell_type": "code",
   "execution_count": 12,
   "id": "f2e033a8-a1e6-44d7-961f-7ba159cf74bc",
   "metadata": {},
   "outputs": [
    {
     "data": {
      "text/plain": [
       "8"
      ]
     },
     "execution_count": 12,
     "metadata": {},
     "output_type": "execute_result"
    }
   ],
   "source": [
    "2 ** 3"
   ]
  },
  {
   "cell_type": "markdown",
   "id": "fe32fca7-c22d-4642-a61c-813b2e6d89aa",
   "metadata": {},
   "source": [
    "### Variable"
   ]
  },
  {
   "cell_type": "code",
   "execution_count": 16,
   "id": "b42742e4-6cb0-478e-82c3-4d0fdd14d813",
   "metadata": {},
   "outputs": [
    {
     "name": "stdout",
     "output_type": "stream",
     "text": [
      "25.0\n"
     ]
    }
   ],
   "source": [
    "ราคา = 100\n",
    "สุทธิ = ราคา / 4\n",
    "ผลลัพธ์ = สุทธิ\n",
    "print(สุทธิ)"
   ]
  },
  {
   "cell_type": "code",
   "execution_count": null,
   "id": "ce62bfcb-d64d-48bd-8067-22a004a68ab6",
   "metadata": {},
   "outputs": [],
   "source": [
    "2r   = 4\n",
    "pass = 9"
   ]
  },
  {
   "cell_type": "code",
   "execution_count": 23,
   "id": "658baea4-a297-4590-87f7-e12d99630ef0",
   "metadata": {},
   "outputs": [],
   "source": [
    "r     = 3\n",
    "pass_ = 50"
   ]
  },
  {
   "cell_type": "markdown",
   "id": "8ea9d2fd-2f75-4a0d-aa17-73d08a98e75f",
   "metadata": {},
   "source": [
    "### Condition"
   ]
  },
  {
   "cell_type": "code",
   "execution_count": null,
   "id": "dca14c0b-6a47-4ebe-8ce2-a7c2d237338d",
   "metadata": {},
   "outputs": [],
   "source": [
    ">  <  >=    <=   !="
   ]
  },
  {
   "cell_type": "code",
   "execution_count": 25,
   "id": "9586a357-57f6-46c7-9e85-de57babce2e9",
   "metadata": {},
   "outputs": [],
   "source": [
    "a = 3\n",
    "b = 7\n",
    "c = 9"
   ]
  },
  {
   "cell_type": "code",
   "execution_count": 26,
   "id": "6c8149fb-70c5-469c-b228-1a7201772e04",
   "metadata": {},
   "outputs": [
    {
     "data": {
      "text/plain": [
       "False"
      ]
     },
     "execution_count": 26,
     "metadata": {},
     "output_type": "execute_result"
    }
   ],
   "source": [
    "a > b"
   ]
  },
  {
   "cell_type": "code",
   "execution_count": 27,
   "id": "8ce0f76d-1d52-467e-afb7-b4388b66a4b0",
   "metadata": {},
   "outputs": [
    {
     "data": {
      "text/plain": [
       "True"
      ]
     },
     "execution_count": 27,
     "metadata": {},
     "output_type": "execute_result"
    }
   ],
   "source": [
    "a < b"
   ]
  },
  {
   "cell_type": "code",
   "execution_count": 28,
   "id": "4ff433dd-224d-4ae9-a382-6c61bcbbd939",
   "metadata": {},
   "outputs": [
    {
     "data": {
      "text/plain": [
       "False"
      ]
     },
     "execution_count": 28,
     "metadata": {},
     "output_type": "execute_result"
    }
   ],
   "source": [
    "a < b and a > c"
   ]
  },
  {
   "cell_type": "code",
   "execution_count": 30,
   "id": "9fe56e28-6153-4020-8a3c-eb45ea1159c1",
   "metadata": {},
   "outputs": [
    {
     "data": {
      "text/plain": [
       "True"
      ]
     },
     "execution_count": 30,
     "metadata": {},
     "output_type": "execute_result"
    }
   ],
   "source": [
    "a < b and b < c"
   ]
  },
  {
   "cell_type": "markdown",
   "id": "6e8bf06d-f1a6-4ac9-84f2-0563b737cb5f",
   "metadata": {},
   "source": [
    "## if"
   ]
  },
  {
   "cell_type": "code",
   "execution_count": 31,
   "id": "a901191e-f4d4-44bf-8b18-c8593778836d",
   "metadata": {},
   "outputs": [
    {
     "name": "stdout",
     "output_type": "stream",
     "text": [
      "Image Process\n"
     ]
    }
   ],
   "source": [
    "img = 32\n",
    "if img < 30 :\n",
    "    print('Image off')\n",
    "elif img >= 30 and img < 40:\n",
    "    print('Image Process')\n",
    "else:\n",
    "    print('Turn on a Visualize Box')    "
   ]
  },
  {
   "cell_type": "markdown",
   "id": "2341b1c3-087c-44cc-a236-d954d26d6a81",
   "metadata": {
    "tags": []
   },
   "source": [
    "# Iteration (Loop):"
   ]
  },
  {
   "cell_type": "code",
   "execution_count": 35,
   "id": "2249311a-5ec9-475c-9fa8-0123bbc6ff08",
   "metadata": {},
   "outputs": [
    {
     "name": "stdout",
     "output_type": "stream",
     "text": [
      "number = 4\n",
      "number = 5\n",
      "\n",
      "done\n",
      "data =  3\n"
     ]
    }
   ],
   "source": [
    "for count in range(4,6):\n",
    "    print(\"number = \",end=\"\")\n",
    "    print(count)\n",
    "print()\n",
    "print(\"done\")\n",
    "\n",
    "#print\n",
    "print('data = ',a)"
   ]
  },
  {
   "cell_type": "markdown",
   "id": "51931193-8501-4a78-9578-df09d58b0349",
   "metadata": {},
   "source": [
    "## while"
   ]
  },
  {
   "cell_type": "code",
   "execution_count": null,
   "id": "91c9d905-5035-4aa1-8251-05976aecdd8a",
   "metadata": {},
   "outputs": [
    {
     "name": "stdout",
     "output_type": "stream",
     "text": [
      "hello naa\n",
      "hello naa\n",
      "hello naa\n",
      "hello naa\n",
      "end of sol\n"
     ]
    }
   ],
   "source": [
    "interest = 0\n",
    "while interest < 4:\n",
    "    print(\"hello naa\")\n",
    "    interest = interest + 1\n",
    "print(\"end of sol\")"
   ]
  },
  {
   "cell_type": "markdown",
   "id": "bb11fb95-cb81-45d5-a525-76cc2f6cdb5d",
   "metadata": {},
   "source": [
    "## Function"
   ]
  },
  {
   "cell_type": "code",
   "execution_count": 41,
   "id": "9c3acd57-dcb4-4818-a93e-15760c2cf587",
   "metadata": {},
   "outputs": [
    {
     "name": "stdout",
     "output_type": "stream",
     "text": [
      "Area = 16\n",
      "Area =  16\n"
     ]
    }
   ],
   "source": [
    "def area(length):\n",
    "    area = length * length\n",
    "    return area\n",
    "\n",
    "a = area(4)\n",
    "print('Area = %d' % (a)) \n",
    "print('Area = ', a)"
   ]
  },
  {
   "cell_type": "code",
   "execution_count": 42,
   "id": "60826840-f820-4ddb-aba9-649235b1e7e8",
   "metadata": {},
   "outputs": [
    {
     "data": {
      "text/plain": [
       "25"
      ]
     },
     "execution_count": 42,
     "metadata": {},
     "output_type": "execute_result"
    }
   ],
   "source": [
    "area(5)"
   ]
  },
  {
   "cell_type": "code",
   "execution_count": 43,
   "id": "3f6b7766-c5ea-40dc-981c-399c15376313",
   "metadata": {},
   "outputs": [
    {
     "data": {
      "text/plain": [
       "36"
      ]
     },
     "execution_count": 43,
     "metadata": {},
     "output_type": "execute_result"
    }
   ],
   "source": [
    "area(6)"
   ]
  },
  {
   "cell_type": "markdown",
   "id": "001e886e-e236-43b4-8352-c9a89d268917",
   "metadata": {},
   "source": [
    "## Container"
   ]
  },
  {
   "cell_type": "markdown",
   "id": "e2296a7f-b1c7-4387-b057-976789c1fd0d",
   "metadata": {},
   "source": [
    "### List"
   ]
  },
  {
   "cell_type": "code",
   "execution_count": 44,
   "id": "73a267d6-0446-4216-b392-1a5b04b9a56f",
   "metadata": {},
   "outputs": [],
   "source": [
    "personality = [20, 3, 19.5, 230, 145]"
   ]
  },
  {
   "cell_type": "code",
   "execution_count": 45,
   "id": "ae348a9b-558c-46be-8fe9-091a8a14a77e",
   "metadata": {},
   "outputs": [
    {
     "data": {
      "text/plain": [
       "list"
      ]
     },
     "execution_count": 45,
     "metadata": {},
     "output_type": "execute_result"
    }
   ],
   "source": [
    "type(personality)"
   ]
  },
  {
   "cell_type": "code",
   "execution_count": 47,
   "id": "18a6f698-a5d5-40c6-922b-a6049fef64d7",
   "metadata": {},
   "outputs": [
    {
     "data": {
      "text/plain": [
       "20"
      ]
     },
     "execution_count": 47,
     "metadata": {},
     "output_type": "execute_result"
    }
   ],
   "source": [
    "personality[0]"
   ]
  },
  {
   "cell_type": "code",
   "execution_count": 49,
   "id": "94acbd16-f515-48c9-a7e0-9bd418fba85e",
   "metadata": {},
   "outputs": [
    {
     "data": {
      "text/plain": [
       "[3, 19.5, 230]"
      ]
     },
     "execution_count": 49,
     "metadata": {},
     "output_type": "execute_result"
    }
   ],
   "source": [
    "personality[-4:-1]"
   ]
  },
  {
   "cell_type": "code",
   "execution_count": 51,
   "id": "85df4ed5-753a-4ac1-a38a-76fbf15056c6",
   "metadata": {},
   "outputs": [
    {
     "name": "stdout",
     "output_type": "stream",
     "text": [
      "20\n",
      "3\n",
      "19.5\n",
      "230\n",
      "145\n"
     ]
    }
   ],
   "source": [
    "for j in personality:\n",
    "    print(j)"
   ]
  },
  {
   "cell_type": "code",
   "execution_count": 52,
   "id": "46e53381-9d06-405b-91fb-5c2919056f79",
   "metadata": {},
   "outputs": [
    {
     "name": "stdout",
     "output_type": "stream",
     "text": [
      "0 20\n",
      "1 3\n",
      "2 19.5\n",
      "3 230\n",
      "4 145\n"
     ]
    }
   ],
   "source": [
    "# enumerate\n",
    "for i,n in enumerate(personality):\n",
    "    print(i,n)"
   ]
  },
  {
   "cell_type": "code",
   "execution_count": 53,
   "id": "5d06ef86-7abd-4eb6-89ec-e5a2572ba18f",
   "metadata": {},
   "outputs": [],
   "source": [
    "data = [[20, 62, 22.4, 189, 123],\n",
    "        [32, 47, 11.9, 168, 174],\n",
    "        [24, 35, 51.43, 155, 144]]"
   ]
  },
  {
   "cell_type": "code",
   "execution_count": 54,
   "id": "955db855-2e42-433c-a1c9-2c1cdd1325de",
   "metadata": {},
   "outputs": [
    {
     "data": {
      "text/plain": [
       "62"
      ]
     },
     "execution_count": 54,
     "metadata": {},
     "output_type": "execute_result"
    }
   ],
   "source": [
    "data[0][1]"
   ]
  },
  {
   "cell_type": "code",
   "execution_count": 59,
   "id": "a990a859-c5e2-43b4-9016-c5aa6fddf903",
   "metadata": {},
   "outputs": [
    {
     "data": {
      "text/plain": [
       "155"
      ]
     },
     "execution_count": 59,
     "metadata": {},
     "output_type": "execute_result"
    }
   ],
   "source": [
    "data[2][3]"
   ]
  },
  {
   "cell_type": "markdown",
   "id": "8ff41398-dd02-4df8-96f3-e991a5ac2be9",
   "metadata": {},
   "source": [
    "## Dictionary"
   ]
  },
  {
   "cell_type": "code",
   "execution_count": 60,
   "id": "a585967d-7f67-45ef-970e-59c82596b427",
   "metadata": {},
   "outputs": [
    {
     "data": {
      "text/plain": [
       "dict"
      ]
     },
     "execution_count": 60,
     "metadata": {},
     "output_type": "execute_result"
    }
   ],
   "source": [
    "book_lish = {'age':27,'ht':171,'bmi':18.4}\n",
    "type(book_lish)"
   ]
  },
  {
   "cell_type": "code",
   "execution_count": 62,
   "id": "22ef73d8-a1cd-4bf9-8d15-45f3387364fe",
   "metadata": {},
   "outputs": [
    {
     "data": {
      "text/plain": [
       "171"
      ]
     },
     "execution_count": 62,
     "metadata": {},
     "output_type": "execute_result"
    }
   ],
   "source": [
    "a = book_lish['ht']\n",
    "a"
   ]
  },
  {
   "cell_type": "code",
   "execution_count": 63,
   "id": "bb9ef332-21f8-4f0d-87ef-f070b7ecbc5d",
   "metadata": {},
   "outputs": [
    {
     "data": {
      "text/plain": [
       "18.4"
      ]
     },
     "execution_count": 63,
     "metadata": {},
     "output_type": "execute_result"
    }
   ],
   "source": [
    "y = book_lish['bmi']\n",
    "y"
   ]
  },
  {
   "cell_type": "code",
   "execution_count": 64,
   "id": "90701fbc-3539-4c96-8325-d570d85a8842",
   "metadata": {},
   "outputs": [
    {
     "name": "stdout",
     "output_type": "stream",
     "text": [
      "27\n",
      "171\n",
      "18.4\n"
     ]
    }
   ],
   "source": [
    "for i in book_lish.values():\n",
    "    print(i)"
   ]
  },
  {
   "cell_type": "code",
   "execution_count": null,
   "id": "3674bbc7-7aa8-4b34-a202-7ebd88c71114",
   "metadata": {},
   "outputs": [],
   "source": []
  }
 ],
 "metadata": {
  "kernelspec": {
   "display_name": "Python 3 (ipykernel)",
   "language": "python",
   "name": "python3"
  },
  "language_info": {
   "codemirror_mode": {
    "name": "ipython",
    "version": 3
   },
   "file_extension": ".py",
   "mimetype": "text/x-python",
   "name": "python",
   "nbconvert_exporter": "python",
   "pygments_lexer": "ipython3",
   "version": "3.10.9"
  }
 },
 "nbformat": 4,
 "nbformat_minor": 5
}
