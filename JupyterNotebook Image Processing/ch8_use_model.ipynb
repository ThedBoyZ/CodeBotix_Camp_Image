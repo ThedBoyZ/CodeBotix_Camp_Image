{
 "cells": [
  {
   "cell_type": "markdown",
   "id": "1e9daa19-84af-4425-a089-6d15a1b0d958",
   "metadata": {},
   "source": [
    "## การใช้โมเดล Model to use"
   ]
  },
  {
   "cell_type": "code",
   "execution_count": 2,
   "id": "19fa8699-fab1-4519-9f6c-3819294262f6",
   "metadata": {},
   "outputs": [],
   "source": [
    "import joblib\n",
    "import numpy as np\n",
    "\n",
    "model = joblib.load('model_math.pkl')"
   ]
  },
  {
   "cell_type": "code",
   "execution_count": 3,
   "id": "874dda51-c431-4d1c-8e05-9051c3557c76",
   "metadata": {},
   "outputs": [
    {
     "data": {
      "text/plain": [
       "(array([0.48848496]), 0.5154945733698053)"
      ]
     },
     "execution_count": 3,
     "metadata": {},
     "output_type": "execute_result"
    }
   ],
   "source": [
    "model.coef_ , model.intercept_       # m and b"
   ]
  },
  {
   "cell_type": "code",
   "execution_count": 4,
   "id": "bc971fd7-e5db-41f6-9fc5-68f6baefa212",
   "metadata": {},
   "outputs": [
    {
     "data": {
      "text/plain": [
       "array([1.49246448, 1.73670696, 1.98094944, 2.95791935, 3.93488926])"
      ]
     },
     "execution_count": 4,
     "metadata": {},
     "output_type": "execute_result"
    }
   ],
   "source": [
    "x_input = [2.0, 2.5, 3, 5.0, 7.0]\n",
    "x_input = np.array(x_input).reshape(-1, 1)\n",
    "\n",
    "y_predict = model.predict(x_input)\n",
    "y_predict"
   ]
  },
  {
   "cell_type": "code",
   "execution_count": 5,
   "id": "5086c079-b242-4421-a0ff-9b813fd61d0f",
   "metadata": {},
   "outputs": [
    {
     "name": "stdout",
     "output_type": "stream",
     "text": [
      "x=[2.] y=1.4925 \n",
      "x=[2.5] y=1.7367 \n",
      "x=[3.] y=1.9809 \n",
      "x=[5.] y=2.9579 \n",
      "x=[7.] y=3.9349 \n"
     ]
    }
   ],
   "source": [
    "# วนรอบแสดง input และ ผลลัพธ์\n",
    "for i, y in enumerate(y_predict):\n",
    "    print('x={} y={:.4f} '.format(x_input[i], y) )"
   ]
  },
  {
   "cell_type": "code",
   "execution_count": null,
   "id": "4f722724-fd27-43a1-b0b7-dbb35c222489",
   "metadata": {},
   "outputs": [],
   "source": []
  }
 ],
 "metadata": {
  "kernelspec": {
   "display_name": "Python 3 (ipykernel)",
   "language": "python",
   "name": "python3"
  },
  "language_info": {
   "codemirror_mode": {
    "name": "ipython",
    "version": 3
   },
   "file_extension": ".py",
   "mimetype": "text/x-python",
   "name": "python",
   "nbconvert_exporter": "python",
   "pygments_lexer": "ipython3",
   "version": "3.10.9"
  }
 },
 "nbformat": 4,
 "nbformat_minor": 5
}
